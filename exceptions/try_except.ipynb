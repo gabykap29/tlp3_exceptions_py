{
 "cells": [
  {
   "cell_type": "markdown",
   "metadata": {},
   "source": [
    "### **Excepciones:** errores que se producen en tiempo de ejecucion del codigo\n",
    "\n",
    "* No son necesariamente errores de sintaxis, sino son errores de logica. \n",
    "\n",
    "* Permite que el codigo se siga ejecutando a pesar de errores\n",
    "\n",
    "* Ejemplo de error"
   ]
  },
  {
   "cell_type": "code",
   "execution_count": 1,
   "metadata": {},
   "outputs": [
    {
     "ename": "ZeroDivisionError",
     "evalue": "division by zero",
     "output_type": "error",
     "traceback": [
      "\u001b[0;31m---------------------------------------------------------------------------\u001b[0m",
      "\u001b[0;31mZeroDivisionError\u001b[0m                         Traceback (most recent call last)",
      "Cell \u001b[0;32mIn[1], line 5\u001b[0m\n\u001b[1;32m      1\u001b[0m num1 \u001b[38;5;241m=\u001b[39m \u001b[38;5;241m20\u001b[39m\n\u001b[1;32m      3\u001b[0m num2 \u001b[38;5;241m=\u001b[39m \u001b[38;5;241m0\u001b[39m\n\u001b[0;32m----> 5\u001b[0m \u001b[38;5;28mprint\u001b[39m(\u001b[43mnum1\u001b[49m\u001b[38;5;241;43m/\u001b[39;49m\u001b[43mnum2\u001b[49m)\n",
      "\u001b[0;31mZeroDivisionError\u001b[0m: division by zero"
     ]
    }
   ],
   "source": [
    "num1 = 20\n",
    "\n",
    "num2 = 0\n",
    "\n",
    "print(num1/num2)"
   ]
  },
  {
   "cell_type": "markdown",
   "metadata": {},
   "source": [
    "* Ejemplo de excepcion:"
   ]
  },
  {
   "cell_type": "code",
   "execution_count": null,
   "metadata": {},
   "outputs": [],
   "source": [
    "try:\n",
    "    print(num1/num2)\n",
    "except:\n",
    "    print(\"Error al realizar la division\")"
   ]
  },
  {
   "cell_type": "markdown",
   "metadata": {},
   "source": [
    "* existe una clausula llamada **\"finally\"** que se ejecuta siempre al terminar el bloque try-except (ocurra o no un error)."
   ]
  },
  {
   "cell_type": "code",
   "execution_count": null,
   "metadata": {},
   "outputs": [],
   "source": [
    "\n",
    "# ! caso de error \n",
    "try:\n",
    "    print(num1/num2)\n",
    "except:\n",
    "    print(\"Error al realizar la division\")\n",
    "finally:\n",
    "    print(\"Operacion finalizada\")\n",
    "\n",
    "# ! caso de no error\n",
    "try:\n",
    "    print(num2/num1)\n",
    "except:\n",
    "    print(\"Error al realizar la division\")\n",
    "finally:\n",
    "    print(\"Operacion finalizada\")"
   ]
  },
  {
   "cell_type": "markdown",
   "metadata": {},
   "source": [
    "### Diferencia entre usar y no usar excepciones\n",
    "\n",
    "* con excepcion"
   ]
  },
  {
   "cell_type": "code",
   "execution_count": null,
   "metadata": {},
   "outputs": [],
   "source": [
    "try:\n",
    "    print(20/0)\n",
    "except ValueError:\n",
    "    print(\"Error al realizar la division\")\n",
    "\n",
    "print(\"mensaje final\")"
   ]
  },
  {
   "cell_type": "markdown",
   "metadata": {},
   "source": [
    "* sin excepcion (el programa se interrumpe y no se muestra el ultimo mensaje de consola)"
   ]
  },
  {
   "cell_type": "code",
   "execution_count": null,
   "metadata": {},
   "outputs": [],
   "source": [
    "print(20/0)\n",
    "\n",
    "print(\"mensaje final\")"
   ]
  },
  {
   "cell_type": "markdown",
   "metadata": {},
   "source": [
    "### Tipos de excepciones más comunes:"
   ]
  },
  {
   "cell_type": "markdown",
   "metadata": {},
   "source": [
    "* **ValueError**: se recibe una argumento con un tipo de valor erroneo"
   ]
  },
  {
   "cell_type": "code",
   "execution_count": null,
   "metadata": {},
   "outputs": [],
   "source": [
    "try:\n",
    "    numero = int(\"Hola\")\n",
    "except ValueError:\n",
    "    print(\"Error al convertir una cadena a número\")"
   ]
  },
  {
   "cell_type": "markdown",
   "metadata": {},
   "source": [
    "* **TypeError**: se produce cuando se intenta operar con tipos incompatibles"
   ]
  },
  {
   "cell_type": "code",
   "execution_count": null,
   "metadata": {},
   "outputs": [],
   "source": [
    "try:\n",
    "    print(suma = \"texto\" + 5)\n",
    "except TypeError:\n",
    "    print(\"No se puede sumar una cadena y un número\")"
   ]
  },
  {
   "cell_type": "markdown",
   "metadata": {},
   "source": [
    "* **AttributeError**: ocurre cuando se intenta acceder a un atributo que no existe "
   ]
  },
  {
   "cell_type": "code",
   "execution_count": null,
   "metadata": {},
   "outputs": [],
   "source": [
    "try:\n",
    "    numero = 5\n",
    "    numero.append(2)  # Un entero no tiene el método `append`\n",
    "except AttributeError:     \n",
    "    print(\"El metodo no existe para ese tipo de dato\")\n"
   ]
  },
  {
   "cell_type": "markdown",
   "metadata": {},
   "source": [
    "* **KeyError**: se lanza cuando se intenta acceder a una clave inexistente en un diccionario"
   ]
  },
  {
   "cell_type": "code",
   "execution_count": null,
   "metadata": {},
   "outputs": [],
   "source": [
    "try:\n",
    "    diccionario = {\"nombre\": \"Juan\"}\n",
    "    print(diccionario[\"edad\"])\n",
    "except KeyError:\n",
    "    print(\"La clave no existe\")"
   ]
  },
  {
   "cell_type": "markdown",
   "metadata": {},
   "source": [
    "* **ZeroDivisionError**: cuando se intenta dividir un numero por 0"
   ]
  },
  {
   "cell_type": "code",
   "execution_count": null,
   "metadata": {},
   "outputs": [],
   "source": [
    "try:\n",
    "    resultado = 10 / 0  \n",
    "except ZeroDivisionError:\n",
    "    print(\"División por cero\")"
   ]
  },
  {
   "cell_type": "markdown",
   "metadata": {},
   "source": [
    "* **IndexError**: cuando se intenta acceder a un indice que no existe"
   ]
  },
  {
   "cell_type": "code",
   "execution_count": null,
   "metadata": {},
   "outputs": [],
   "source": [
    "try:\n",
    "    lista = [1, 2, 3]\n",
    "    print(lista[5])\n",
    "except IndexError:\n",
    "    print(\"Error al acceder al indice\")"
   ]
  },
  {
   "cell_type": "markdown",
   "metadata": {},
   "source": [
    "* **FileNotFoundError**: se lanza cuando se intenta abrir un archivo que no existe"
   ]
  },
  {
   "cell_type": "code",
   "execution_count": null,
   "metadata": {},
   "outputs": [],
   "source": [
    "try:\n",
    "    with open(\"archivo_inexistente.txt\", \"r\") as f:\n",
    "        contenido = f.read()\n",
    "except FileNotFoundError:\n",
    "    print(\"El archivo no existe\")"
   ]
  },
  {
   "cell_type": "markdown",
   "metadata": {},
   "source": [
    "* **Exception**: engloba la mayoría de las excepciones en Python, se usa cuando no estamos seguros del tipo de error que pueda ocurrir (sin embargo es mas recomendable usar multiples excepciones)"
   ]
  },
  {
   "cell_type": "code",
   "execution_count": null,
   "metadata": {},
   "outputs": [],
   "source": [
    "try:\n",
    "    resultado = 10 / 0  # Genera un ZeroDivisionError\n",
    "except Exception as e:\n",
    "    print(f\"Ocurrió un error: {e}\")\n"
   ]
  },
  {
   "cell_type": "markdown",
   "metadata": {},
   "source": [
    "### Anidar excepciones:\n",
    "\n",
    "* Es posible anidar varios bloques de **except** para cubrir varios tipos de error:"
   ]
  },
  {
   "cell_type": "code",
   "execution_count": null,
   "metadata": {},
   "outputs": [],
   "source": [
    "try:\n",
    "    numero = int(input(\"Ingresa un número: \"))\n",
    "    resultado = 10 / numero\n",
    "    print(resultado)\n",
    "except ZeroDivisionError:\n",
    "    print(\"No puedes dividir por cero.\")\n",
    "except ValueError:\n",
    "    print(\"Debes ingresar un número válido.\")\n",
    "except Exception as e:\n",
    "    print(f\"Ocurrió un error inesperado: {e}\")\n"
   ]
  },
  {
   "cell_type": "markdown",
   "metadata": {},
   "source": [
    "### Nota: es importante elegir correctamente las excepciones, de lo contrario no se aplicaran\n",
    "\n",
    "* ejemplo:"
   ]
  },
  {
   "cell_type": "code",
   "execution_count": 24,
   "metadata": {},
   "outputs": [
    {
     "ename": "ZeroDivisionError",
     "evalue": "division by zero",
     "output_type": "error",
     "traceback": [
      "\u001b[31m---------------------------------------------------------------------------\u001b[39m",
      "\u001b[31mZeroDivisionError\u001b[39m                         Traceback (most recent call last)",
      "\u001b[36mCell\u001b[39m\u001b[36m \u001b[39m\u001b[32mIn[24]\u001b[39m\u001b[32m, line 2\u001b[39m\n\u001b[32m      1\u001b[39m \u001b[38;5;28;01mtry\u001b[39;00m:\n\u001b[32m----> \u001b[39m\u001b[32m2\u001b[39m     resultado = \u001b[32;43m10\u001b[39;49m\u001b[43m \u001b[49m\u001b[43m/\u001b[49m\u001b[43m \u001b[49m\u001b[32;43m0\u001b[39;49m  \u001b[38;5;66;03m# Genera un ZeroDivisionError\u001b[39;00m\n\u001b[32m      3\u001b[39m \u001b[38;5;28;01mexcept\u001b[39;00m \u001b[38;5;167;01mTypeError\u001b[39;00m:\n\u001b[32m      4\u001b[39m     \u001b[38;5;28mprint\u001b[39m(\u001b[33mf\u001b[39m\u001b[33m\"\u001b[39m\u001b[33mOcurrió un error: \u001b[39m\u001b[38;5;132;01m{\u001b[39;00me\u001b[38;5;132;01m}\u001b[39;00m\u001b[33m\"\u001b[39m)\n",
      "\u001b[31mZeroDivisionError\u001b[39m: division by zero"
     ]
    }
   ],
   "source": [
    "try:\n",
    "    resultado = 10 / 0  # Genera un ZeroDivisionError\n",
    "except TypeError:\n",
    "    print(f\"Ocurrió un error: {e}\")\n"
   ]
  },
  {
   "cell_type": "markdown",
   "metadata": {},
   "source": [
    "### Renombrar excepciones:\n",
    "\n",
    "* es posible guardar las excepciones en variables, sin embargo solo obtendremos el mensaje de error y podremos perder cierta informacion.\n",
    "\n",
    "* ejemplo:"
   ]
  },
  {
   "cell_type": "code",
   "execution_count": 25,
   "metadata": {},
   "outputs": [
    {
     "name": "stdout",
     "output_type": "stream",
     "text": [
      "Ocurrió un error: division by zero\n"
     ]
    }
   ],
   "source": [
    "try:\n",
    "    resultado = 10 / 0\n",
    "except ZeroDivisionError as e:\n",
    "    print(f\"Ocurrió un error: {e}\")\n"
   ]
  },
  {
   "cell_type": "markdown",
   "metadata": {},
   "source": [
    "* obtenemos un mensaje simple pero no información detallada que pueda ser util para resolver un posible problema\n",
    "\n",
    "* para solucionar eso podemos utilizar el modulo nativo de Py **logging** y mantendremos esa información"
   ]
  },
  {
   "cell_type": "code",
   "execution_count": 27,
   "metadata": {},
   "outputs": [
    {
     "name": "stderr",
     "output_type": "stream",
     "text": [
      "ERROR:root:Ocurrió un error: division by zero\n",
      "Traceback (most recent call last):\n",
      "  File \"C:\\Users\\Agustin\\AppData\\Local\\Temp\\ipykernel_15868\\3010989780.py\", line 4, in <module>\n",
      "    resultado = 10 / 0\n",
      "                ~~~^~~\n",
      "ZeroDivisionError: division by zero\n"
     ]
    },
    {
     "name": "stdout",
     "output_type": "stream",
     "text": [
      "fin del programa\n"
     ]
    }
   ],
   "source": [
    "import logging\n",
    "\n",
    "try:\n",
    "    resultado = 10 / 0\n",
    "except ZeroDivisionError as e:\n",
    "    logging.exception(f\"Ocurrió un error: {e}\")\n",
    "print(\"fin del programa\")\n"
   ]
  },
  {
   "cell_type": "markdown",
   "metadata": {},
   "source": [
    "### Else y Raise\n",
    "\n",
    "#### **raise**: permite generar excepciones de forma manual cuando detectamos una condición no deseada en nuestro código\n",
    "\n",
    "* ejemplo:"
   ]
  },
  {
   "cell_type": "code",
   "execution_count": null,
   "metadata": {},
   "outputs": [
    {
     "name": "stdout",
     "output_type": "stream",
     "text": [
      "El número 5 es válido\n"
     ]
    }
   ],
   "source": [
    "def verificar_numero(numero):\n",
    "    if numero < 0:\n",
    "        raise ValueError(\"No se permiten números negativos\")\n",
    "    return f\"El número {numero} es válido\"\n",
    "\n",
    "try:\n",
    "    print(verificar_numero(-5))  # Provocará un ValueError\n",
    "except ValueError as e:\n",
    "    print(f\"Error: {e}\")\n"
   ]
  },
  {
   "cell_type": "markdown",
   "metadata": {},
   "source": [
    "#### **else**: se ejecuta solo si no ocurre ninguna excepción en el bloque try. Se usa para código que debería ejecutarse solo si todo salió bien"
   ]
  },
  {
   "cell_type": "code",
   "execution_count": 31,
   "metadata": {},
   "outputs": [
    {
     "name": "stdout",
     "output_type": "stream",
     "text": [
      "Error: El número debe ser positivo\n"
     ]
    }
   ],
   "source": [
    "try:\n",
    "    numero = int(input(\"Ingresa un número positivo: \"))\n",
    "    if numero < 0:\n",
    "        raise ValueError(\"El número debe ser positivo\")\n",
    "except ValueError as e:\n",
    "    print(f\"Error: {e}\")\n",
    "else:\n",
    "    print(f\"El número ingresado es válido: {numero}\")\n"
   ]
  }
 ],
 "metadata": {
  "kernelspec": {
   "display_name": "Python 3",
   "language": "python",
   "name": "python3"
  },
  "language_info": {
   "codemirror_mode": {
    "name": "ipython",
    "version": 3
   },
   "file_extension": ".py",
   "mimetype": "text/x-python",
   "name": "python",
   "nbconvert_exporter": "python",
   "pygments_lexer": "ipython3",
   "version": "3.8.2"
  }
 },
 "nbformat": 4,
 "nbformat_minor": 2
}
