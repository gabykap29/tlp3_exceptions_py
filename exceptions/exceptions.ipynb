{
 "cells": [
  {
   "cell_type": "markdown",
   "metadata": {},
   "source": [
    "# Sentencias Try y Except de Python: Cómo manejar excepciones en Python"
   ]
  },
  {
   "cell_type": "markdown",
   "metadata": {},
   "source": [
    "Al programar en Python algunas veces podemos anticipar errores de ejecución, incluso en un programa sintáctica y lógicamente correcto, pueden llegar a haber errores causados por entrada de datos inválidos o inconsistencias predecibles.\n",
    "\n",
    "En Python, puedes usar los bloques try y except para manejar estos errores como excepciones. Normalmente, es utilizado para capturar errores en tiempo de ejecucion."
   ]
  },
  {
   "cell_type": "code",
   "execution_count": null,
   "metadata": {},
   "outputs": [],
   "source": [
    "#Ejemplo de Try y Excepts con error de tipos de datos\n",
    "def funcion(a, b):\n",
    "    try:\n",
    "        print(\"Continua\")\n",
    "        return a + b\n",
    "    except TypeError: \n",
    "        print(\"Error: verifique los datos ingresados\")\n",
    "\n",
    "\n",
    "funcion(45,\"asd\")\n"
   ]
  },
  {
   "cell_type": "markdown",
   "metadata": {},
   "source": [
    "## Tipos de errores\n",
    "\n",
    "### `ZeroDivisionError`\n",
    "Las exceptions pueden manejar distintos tipos de errores en tiempo de ejecucion, entre ellos esta la famosa division por cero en python."
   ]
  },
  {
   "cell_type": "code",
   "execution_count": null,
   "metadata": {},
   "outputs": [],
   "source": [
    "#Ejemplo de ZeroDivisionError\n",
    "try: \n",
    "    num1 = 20\n",
    "    num2 = 0\n",
    "    print(num1/num2)\n",
    "except ZeroDivisionError: \n",
    "    print(\"Error: Division por cero\")\n",
    "    \n",
    "print(\"Continua\")"
   ]
  },
  {
   "cell_type": "markdown",
   "metadata": {},
   "source": [
    "### `TypeError`\n",
    "\n",
    "Python, al ser un lenguaje de alto nivel con un tipado dinámico, es propenso a errores de tipo. Para manejar estos casos, existe la excepción `TypeError`."
   ]
  },
  {
   "cell_type": "code",
   "execution_count": null,
   "metadata": {},
   "outputs": [],
   "source": [
    "#Ejemplo de Try y Excepts con error de tipos de datos"
   ]
  },
  {
   "cell_type": "markdown",
   "metadata": {},
   "source": [
    "### `ValueError`\n",
    "El ValueError ocurre cuando una función recibe un argumento con el tipo correcto, pero con un valor inapropiado. Es decir, el dato tiene el formato esperado, pero su contenido no es válido para la operación."
   ]
  },
  {
   "cell_type": "code",
   "execution_count": 26,
   "metadata": {},
   "outputs": [
    {
     "name": "stdout",
     "output_type": "stream",
     "text": [
      "Continua\n",
      "Error: Ingreso un valor incorrecto\n"
     ]
    }
   ],
   "source": [
    "#Ejemplo de ValueError\n",
    "\n",
    "def funcion(par1, par2):\n",
    "    try:\n",
    "        print(\"Continua\")\n",
    "        a= int(par1)\n",
    "        b= int(par2)\n",
    "        return a + b\n",
    "    except ValueError:\n",
    "        print(\"Error: Ingreso un valor incorrecto\")\n",
    "\n",
    "\n",
    "\n",
    "funcion(\"asd\",3)"
   ]
  },
  {
   "cell_type": "markdown",
   "metadata": {},
   "source": [
    "### `Excepts`\n",
    "\n",
    "Para evitar que una excepción interrumpa la ejecución de nuestro programa, podemos usar except sin especificar un tipo de error. Esto nos permite capturar cualquier excepción y acceder a sus propiedades de la siguiente manera:"
   ]
  },
  {
   "cell_type": "code",
   "execution_count": 29,
   "metadata": {},
   "outputs": [
    {
     "name": "stdout",
     "output_type": "stream",
     "text": [
      "Continua\n",
      "Continua\n",
      "Error: can only concatenate str (not \"int\") to str\n"
     ]
    }
   ],
   "source": [
    "#Ejemplo de exeption capturando cualquier tipo de error con except Exception as e\n",
    "\n",
    "def funcion(par1, par2):\n",
    "    try:\n",
    "        print(\"Continua\")\n",
    "        return par1 + par2\n",
    "    except Exception as error:\n",
    "        print(f\"Error: {error}\")\n",
    "        \n",
    "\n",
    "print(\"Continua\")\n",
    "\n",
    "funcion(\"asd\",3)"
   ]
  },
  {
   "cell_type": "markdown",
   "metadata": {},
   "source": [
    "### Bloque `Else`\n",
    "El bloque else, se ejecuta si solo si el try a funcionado, sino pasa al siguiente."
   ]
  },
  {
   "cell_type": "code",
   "execution_count": 31,
   "metadata": {},
   "outputs": [
    {
     "name": "stdout",
     "output_type": "stream",
     "text": [
      "Continua\n",
      "Continua\n",
      "4\n",
      "No hubio errores\n"
     ]
    }
   ],
   "source": [
    "#Ejemplo del bloque Else en un Try y Excepts\n",
    "def funcion(par1, par2):\n",
    "    try:\n",
    "        print(\"Continua\")\n",
    "        print(par1 + par2)\n",
    "    except TypeError:\n",
    "        print(f\"Error:\")\n",
    "    else:\n",
    "        print(\"No hubio errores\")\n",
    "    \n",
    "\n",
    "print(\"Continua\")\n",
    "\n",
    "funcion(1,3)"
   ]
  },
  {
   "cell_type": "markdown",
   "metadata": {},
   "source": [
    "### Bloque Finally\n",
    "El bloque Finally se ejecuta siempre cuando finalizan los demas bloques, siempre al final"
   ]
  },
  {
   "cell_type": "code",
   "execution_count": 36,
   "metadata": {},
   "outputs": [
    {
     "name": "stdout",
     "output_type": "stream",
     "text": [
      "Continua\n",
      "Continua\n",
      "Error: Hubo un error!\n",
      "Se termino la funcion\n"
     ]
    }
   ],
   "source": [
    "#Ejemplo de bloque Finally en un Try y Excepts\n",
    "def funcion(par1, par2):\n",
    "    try:\n",
    "        print(\"Continua\")\n",
    "        print(par1 + par2)\n",
    "    except TypeError:\n",
    "        print(f\"Error: Hubo un error!\")\n",
    "    else:\n",
    "        print(\"No hubo errores\")\n",
    "    finally:\n",
    "        print(\"Se termino la funcion\")\n",
    "\n",
    "print(\"Continua\")\n",
    "\n",
    "funcion(\"asd\",3)"
   ]
  },
  {
   "cell_type": "markdown",
   "metadata": {},
   "source": [
    "### Funcion Lambda"
   ]
  },
  {
   "cell_type": "code",
   "execution_count": 40,
   "metadata": {},
   "outputs": [
    {
     "name": "stdout",
     "output_type": "stream",
     "text": [
      "[4, 6, 88]\n",
      "[4, 6, 88]\n"
     ]
    }
   ],
   "source": [
    "lista = [1,3,4,5,6,7,7,88]\n",
    "lista_pares_dos = []\n",
    "for i in lista:\n",
    "    if i % 2 == 0:\n",
    "        lista_pares_dos.append(i)\n",
    "print(lista_pares_dos)\n",
    "\n",
    "\n",
    "lista_pares = list(filter(lambda x: x % 2 == 0, lista))\n",
    "\n",
    "print(lista_pares)"
   ]
  }
 ],
 "metadata": {
  "kernelspec": {
   "display_name": "Python 3",
   "language": "python",
   "name": "python3"
  },
  "language_info": {
   "codemirror_mode": {
    "name": "ipython",
    "version": 3
   },
   "file_extension": ".py",
   "mimetype": "text/x-python",
   "name": "python",
   "nbconvert_exporter": "python",
   "pygments_lexer": "ipython3",
   "version": "3.8.2"
  }
 },
 "nbformat": 4,
 "nbformat_minor": 2
}
