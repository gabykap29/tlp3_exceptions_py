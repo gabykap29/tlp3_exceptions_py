{
 "cells": [
  {
   "cell_type": "markdown",
   "metadata": {},
   "source": [
    "### Funciones Lambda\n",
    "\n",
    "* son funciones anonimas (sin nombre)\n",
    "\n",
    "* similar a las funciones flecha de JS\n",
    "\n",
    "* se pueden definir en una sola línea\n",
    "\n",
    "* poseen un retorno implicito\n",
    "\n",
    "* útiles para tareas cortas"
   ]
  },
  {
   "cell_type": "markdown",
   "metadata": {},
   "source": [
    "#### Sintaxis:\n",
    "\n",
    "* lambda: Palabra clave para definir la función\n",
    "\n",
    "* argumentos: Los valores de entrada (como en una función normal)\n",
    "\n",
    "* expresión: La operación o cálculo que se devuelve"
   ]
  },
  {
   "cell_type": "code",
   "execution_count": 16,
   "metadata": {},
   "outputs": [
    {
     "name": "stdout",
     "output_type": "stream",
     "text": [
      "[('Gabriel', 25), ('Pedro', 25), ('Elias', 32)]\n"
     ]
    }
   ],
   "source": [
    "# lambda argumentos: expresion\n",
    "diccionario = {\n",
    "    \"Gabriel\": 25,\n",
    "    \"Pedro\": 25,\n",
    "    \"Elias\": 32\n",
    "}\n",
    "\n",
    "funcion_anonima = list(map(lambda x: x , diccionario.items()))\n",
    "print(funcion_anonima)"
   ]
  },
  {
   "cell_type": "markdown",
   "metadata": {},
   "source": [
    "* ejemplo:"
   ]
  },
  {
   "cell_type": "code",
   "execution_count": null,
   "metadata": {},
   "outputs": [],
   "source": [
    "suma = lambda x, y: x + y\n",
    "print(suma(3, 5))  # Salida: 8\n",
    "\n",
    "# esto es lo mismo que \n",
    "\n",
    "#def suma(x, y):\n",
    "#    return x + y"
   ]
  },
  {
   "cell_type": "markdown",
   "metadata": {},
   "source": [
    "* son muy usadas con funciones de orden superior como map(), filter() y sorted()\n",
    "\n",
    "### NOTA: las funciones de orden superior son funciones que reciben como argumento otra funcion "
   ]
  },
  {
   "cell_type": "markdown",
   "metadata": {},
   "source": [
    "* ejemplo de map(): aplicar una función a cada elemento de un iterable"
   ]
  },
  {
   "cell_type": "code",
   "execution_count": null,
   "metadata": {},
   "outputs": [],
   "source": [
    "numeros = [1, 2, 3, 4, 5]\n",
    "dobles = list(map(lambda x: x * 2, numeros))\n",
    "print(dobles)"
   ]
  },
  {
   "cell_type": "markdown",
   "metadata": {},
   "source": [
    "* ejemplo sorted(): ordenar con una clave personalizada"
   ]
  },
  {
   "cell_type": "code",
   "execution_count": null,
   "metadata": {},
   "outputs": [],
   "source": [
    "personas = [(\"Ana\", 25), (\"Luis\", 30), (\"Carlos\", 20)]\n",
    "ordenado = sorted(personas, key=lambda x: x[1])  # Ordena por edad\n",
    "print(ordenado)\n"
   ]
  },
  {
   "cell_type": "markdown",
   "metadata": {},
   "source": [
    "* ejemplo filter(): filtrar elementos de una lista"
   ]
  },
  {
   "cell_type": "code",
   "execution_count": null,
   "metadata": {},
   "outputs": [],
   "source": [
    "numeros = [1, 2, 3, 4, 5, 6]\n",
    "pares = list(filter(lambda x: x % 2 == 0, numeros))\n",
    "print(pares)\n"
   ]
  },
  {
   "cell_type": "markdown",
   "metadata": {},
   "source": [
    "### ¿Como sabemos en que momento usar cada uno?\n",
    "\n",
    "* **def** en caso de que la funcion sea compleja y reutilizable\n",
    "\n",
    "* **lambda** en caso de que sea una funcion pequeña y simple que no vamos a reutilizar"
   ]
  }
 ],
 "metadata": {
  "kernelspec": {
   "display_name": "Python 3",
   "language": "python",
   "name": "python3"
  },
  "language_info": {
   "codemirror_mode": {
    "name": "ipython",
    "version": 3
   },
   "file_extension": ".py",
   "mimetype": "text/x-python",
   "name": "python",
   "nbconvert_exporter": "python",
   "pygments_lexer": "ipython3",
   "version": "3.8.2"
  }
 },
 "nbformat": 4,
 "nbformat_minor": 2
}
